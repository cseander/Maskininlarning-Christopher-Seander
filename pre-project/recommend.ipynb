{
 "cells": [
  {
   "cell_type": "code",
   "execution_count": 1,
   "metadata": {},
   "outputs": [
    {
     "name": "stderr",
     "output_type": "stream",
     "text": [
      "C:\\Users\\chris\\.virtualenvs\\Maskininlarning-Christopher-Seander-nLYLwDGA\\lib\\site-packages\\fuzzywuzzy\\fuzz.py:11: UserWarning: Using slow pure-python SequenceMatcher. Install python-Levenshtein to remove this warning\n",
      "  warnings.warn('Using slow pure-python SequenceMatcher. Install python-Levenshtein to remove this warning')\n"
     ]
    }
   ],
   "source": [
    "import pandas as pd\n",
    "from scipy.sparse import csr_matrix\n",
    "from sklearn.neighbors import NearestNeighbors\n",
    "from fuzzywuzzy import process"
   ]
  },
  {
   "cell_type": "code",
   "execution_count": 2,
   "metadata": {},
   "outputs": [],
   "source": [
    "movies = \"ml-latest-small/movies.csv\"\n",
    "ratings = \"ml-latest-small/ratings.csv\"\n",
    "\n",
    "df_movies = pd.read_csv(movies, usecols=[\"movieId\", \"title\"], dtype={\"movieId\" : \"int32\", \"title\" : \"str\"})\n",
    "df_ratings = pd.read_csv(ratings, usecols=[\"userId\", \"movieId\", \"rating\"], dtype={\"userId\" : \"int32\", \"movieId\" : \"int32\", \"rating\" : \"float\"})"
   ]
  },
  {
   "cell_type": "code",
   "execution_count": 9,
   "metadata": {},
   "outputs": [
    {
     "name": "stdout",
     "output_type": "stream",
     "text": [
      "<class 'pandas.core.frame.DataFrame'>\n",
      "RangeIndex: 100836 entries, 0 to 100835\n",
      "Data columns (total 3 columns):\n",
      " #   Column   Non-Null Count   Dtype  \n",
      "---  ------   --------------   -----  \n",
      " 0   userId   100836 non-null  int32  \n",
      " 1   movieId  100836 non-null  int32  \n",
      " 2   rating   100836 non-null  float64\n",
      "dtypes: float64(1), int32(2)\n",
      "memory usage: 1.5 MB\n"
     ]
    }
   ],
   "source": [
    "df_ratings.info()"
   ]
  },
  {
   "cell_type": "code",
   "execution_count": 3,
   "metadata": {},
   "outputs": [],
   "source": [
    "# Sparse Matrix\n",
    "#             Users\n",
    "#           [4, 4, 5]   A\n",
    "# Movives   [3, 3, 4]   B  ==  Cos(A,B) => 0.95\n",
    "#           [3, 2, 1]\n",
    "\n",
    "movies_users = df_ratings.pivot(index=\"movieId\", columns=\"userId\", values=\"rating\").fillna(0)\n",
    "mat_movies_users = csr_matrix(movies_users.values)"
   ]
  },
  {
   "cell_type": "code",
   "execution_count": 4,
   "metadata": {},
   "outputs": [],
   "source": [
    "# Euclidean Distance\n",
    "# Manhattan Distance\n",
    "# Minkowski Distance\n",
    "# Cosine Similarity\n",
    "\n",
    "model_KNN = NearestNeighbors(metric=\"cosine\", algorithm=\"brute\", n_neighbors=20)"
   ]
  },
  {
   "cell_type": "code",
   "execution_count": 5,
   "metadata": {},
   "outputs": [
    {
     "data": {
      "text/plain": [
       "(array([[0.        , 0.42739874, 0.4343632 , 0.43573831, 0.44261183,\n",
       "         0.45290409, 0.45885465, 0.4589107 , 0.46108723, 0.46583124,\n",
       "         0.46961865, 0.4720232 , 0.47214083, 0.47967548, 0.48196726,\n",
       "         0.48581831, 0.48775438, 0.49068283, 0.49140738, 0.49145545]]),\n",
       " array([[   0, 2353,  418,  615,  224,  314,  322,  910,  546,  963,  968,\n",
       "         3189,  506,  123,  257,  897,  815, 1182,   31,  277]],\n",
       "       dtype=int64))"
      ]
     },
     "execution_count": 5,
     "metadata": {},
     "output_type": "execute_result"
    }
   ],
   "source": [
    "model_KNN.fit(mat_movies_users)\n",
    "model_KNN.kneighbors(mat_movies_users[0])"
   ]
  },
  {
   "cell_type": "code",
   "execution_count": 6,
   "metadata": {},
   "outputs": [
    {
     "name": "stdout",
     "output_type": "stream",
     "text": [
      "Movie Selected: Iron Man (2008)\n",
      "Searching for recommendations...\n",
      "6743                        NaN\n",
      "7197              Garage (2007)\n",
      "7195    Merry Madagascar (2009)\n",
      "7354         A-Team, The (2010)\n",
      "6726     Superhero Movie (2008)\n",
      "Name: title, dtype: object\n"
     ]
    }
   ],
   "source": [
    "# Recommender(movie_name) => List of Movies recommender\n",
    "\n",
    "def recommender(movie_name, data, model, n_recommendations):\n",
    "    model.fit(data)\n",
    "    index = process.extractOne(movie_name, df_movies[\"title\"])[2]\n",
    "    print(f\"Movie Selected: {df_movies['title'][index]}\")\n",
    "    print('Searching for recommendations...')\n",
    "\n",
    "    distances, indices = model.kneighbors(data[index], n_neighbors = n_recommendations)\n",
    "    for i in indices:\n",
    "        print(df_movies[\"title\"][i].where(i != index))\n",
    "\n",
    "\n",
    "recommender(\"iron man\", mat_movies_users, model_KNN, 5)"
   ]
  },
  {
   "cell_type": "code",
   "execution_count": null,
   "metadata": {},
   "outputs": [],
   "source": [
    "movie_users = asd.pivot(index=\"movieId\", columns=\"userId\", values=\"rating\").fillna(0)\n",
    "testing = csr_matrix(movie_users.values)"
   ]
  }
 ],
 "metadata": {
  "interpreter": {
   "hash": "c8fc4cb282076c59d7c6350e508c9c949e0fb5400d6c8e36fd4abd0c37b53704"
  },
  "kernelspec": {
   "display_name": "Python 3.9.7 ('Maskininlarning-Christopher-Seander-nLYLwDGA')",
   "language": "python",
   "name": "python3"
  },
  "language_info": {
   "codemirror_mode": {
    "name": "ipython",
    "version": 3
   },
   "file_extension": ".py",
   "mimetype": "text/x-python",
   "name": "python",
   "nbconvert_exporter": "python",
   "pygments_lexer": "ipython3",
   "version": "3.9.7"
  },
  "orig_nbformat": 4
 },
 "nbformat": 4,
 "nbformat_minor": 2
}
