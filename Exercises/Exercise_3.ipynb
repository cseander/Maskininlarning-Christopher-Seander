{
 "cells": [
  {
   "cell_type": "markdown",
   "metadata": {},
   "source": [
    "# Overfit and regularization exercises\n",
    "\n",
    "## 0. Tips data EDA"
   ]
  },
  {
   "cell_type": "code",
   "execution_count": 133,
   "metadata": {},
   "outputs": [],
   "source": [
    "import numpy as np\n",
    "import pandas as pd\n",
    "import matplotlib.pylab as plt\n",
    "import seaborn as sns"
   ]
  },
  {
   "cell_type": "markdown",
   "metadata": {},
   "source": [
    "a)"
   ]
  },
  {
   "cell_type": "code",
   "execution_count": 134,
   "metadata": {},
   "outputs": [
    {
     "data": {
      "text/html": [
       "<div>\n",
       "<style scoped>\n",
       "    .dataframe tbody tr th:only-of-type {\n",
       "        vertical-align: middle;\n",
       "    }\n",
       "\n",
       "    .dataframe tbody tr th {\n",
       "        vertical-align: top;\n",
       "    }\n",
       "\n",
       "    .dataframe thead th {\n",
       "        text-align: right;\n",
       "    }\n",
       "</style>\n",
       "<table border=\"1\" class=\"dataframe\">\n",
       "  <thead>\n",
       "    <tr style=\"text-align: right;\">\n",
       "      <th></th>\n",
       "      <th>total_bill</th>\n",
       "      <th>tip</th>\n",
       "      <th>sex</th>\n",
       "      <th>smoker</th>\n",
       "      <th>day</th>\n",
       "      <th>time</th>\n",
       "      <th>size</th>\n",
       "    </tr>\n",
       "  </thead>\n",
       "  <tbody>\n",
       "    <tr>\n",
       "      <th>0</th>\n",
       "      <td>16.99</td>\n",
       "      <td>1.01</td>\n",
       "      <td>Female</td>\n",
       "      <td>No</td>\n",
       "      <td>Sun</td>\n",
       "      <td>Dinner</td>\n",
       "      <td>2</td>\n",
       "    </tr>\n",
       "    <tr>\n",
       "      <th>1</th>\n",
       "      <td>10.34</td>\n",
       "      <td>1.66</td>\n",
       "      <td>Male</td>\n",
       "      <td>No</td>\n",
       "      <td>Sun</td>\n",
       "      <td>Dinner</td>\n",
       "      <td>3</td>\n",
       "    </tr>\n",
       "    <tr>\n",
       "      <th>2</th>\n",
       "      <td>21.01</td>\n",
       "      <td>3.50</td>\n",
       "      <td>Male</td>\n",
       "      <td>No</td>\n",
       "      <td>Sun</td>\n",
       "      <td>Dinner</td>\n",
       "      <td>3</td>\n",
       "    </tr>\n",
       "    <tr>\n",
       "      <th>3</th>\n",
       "      <td>23.68</td>\n",
       "      <td>3.31</td>\n",
       "      <td>Male</td>\n",
       "      <td>No</td>\n",
       "      <td>Sun</td>\n",
       "      <td>Dinner</td>\n",
       "      <td>2</td>\n",
       "    </tr>\n",
       "    <tr>\n",
       "      <th>4</th>\n",
       "      <td>24.59</td>\n",
       "      <td>3.61</td>\n",
       "      <td>Female</td>\n",
       "      <td>No</td>\n",
       "      <td>Sun</td>\n",
       "      <td>Dinner</td>\n",
       "      <td>4</td>\n",
       "    </tr>\n",
       "  </tbody>\n",
       "</table>\n",
       "</div>"
      ],
      "text/plain": [
       "   total_bill   tip     sex smoker  day    time  size\n",
       "0       16.99  1.01  Female     No  Sun  Dinner     2\n",
       "1       10.34  1.66    Male     No  Sun  Dinner     3\n",
       "2       21.01  3.50    Male     No  Sun  Dinner     3\n",
       "3       23.68  3.31    Male     No  Sun  Dinner     2\n",
       "4       24.59  3.61  Female     No  Sun  Dinner     4"
      ]
     },
     "execution_count": 134,
     "metadata": {},
     "output_type": "execute_result"
    }
   ],
   "source": [
    "df = sns.load_dataset(\"tips\")\n",
    "df.head()"
   ]
  },
  {
   "cell_type": "code",
   "execution_count": 135,
   "metadata": {},
   "outputs": [
    {
     "name": "stdout",
     "output_type": "stream",
     "text": [
      "<class 'pandas.core.frame.DataFrame'>\n",
      "RangeIndex: 244 entries, 0 to 243\n",
      "Data columns (total 7 columns):\n",
      " #   Column      Non-Null Count  Dtype   \n",
      "---  ------      --------------  -----   \n",
      " 0   total_bill  244 non-null    float64 \n",
      " 1   tip         244 non-null    float64 \n",
      " 2   sex         244 non-null    category\n",
      " 3   smoker      244 non-null    category\n",
      " 4   day         244 non-null    category\n",
      " 5   time        244 non-null    category\n",
      " 6   size        244 non-null    int64   \n",
      "dtypes: category(4), float64(2), int64(1)\n",
      "memory usage: 7.4 KB\n"
     ]
    }
   ],
   "source": [
    "df.info()"
   ]
  },
  {
   "cell_type": "code",
   "execution_count": 136,
   "metadata": {},
   "outputs": [
    {
     "data": {
      "text/html": [
       "<div>\n",
       "<style scoped>\n",
       "    .dataframe tbody tr th:only-of-type {\n",
       "        vertical-align: middle;\n",
       "    }\n",
       "\n",
       "    .dataframe tbody tr th {\n",
       "        vertical-align: top;\n",
       "    }\n",
       "\n",
       "    .dataframe thead th {\n",
       "        text-align: right;\n",
       "    }\n",
       "</style>\n",
       "<table border=\"1\" class=\"dataframe\">\n",
       "  <thead>\n",
       "    <tr style=\"text-align: right;\">\n",
       "      <th></th>\n",
       "      <th>total_bill</th>\n",
       "      <th>tip</th>\n",
       "      <th>size</th>\n",
       "    </tr>\n",
       "  </thead>\n",
       "  <tbody>\n",
       "    <tr>\n",
       "      <th>count</th>\n",
       "      <td>244.000000</td>\n",
       "      <td>244.000000</td>\n",
       "      <td>244.000000</td>\n",
       "    </tr>\n",
       "    <tr>\n",
       "      <th>mean</th>\n",
       "      <td>19.785943</td>\n",
       "      <td>2.998279</td>\n",
       "      <td>2.569672</td>\n",
       "    </tr>\n",
       "    <tr>\n",
       "      <th>std</th>\n",
       "      <td>8.902412</td>\n",
       "      <td>1.383638</td>\n",
       "      <td>0.951100</td>\n",
       "    </tr>\n",
       "    <tr>\n",
       "      <th>min</th>\n",
       "      <td>3.070000</td>\n",
       "      <td>1.000000</td>\n",
       "      <td>1.000000</td>\n",
       "    </tr>\n",
       "    <tr>\n",
       "      <th>25%</th>\n",
       "      <td>13.347500</td>\n",
       "      <td>2.000000</td>\n",
       "      <td>2.000000</td>\n",
       "    </tr>\n",
       "    <tr>\n",
       "      <th>50%</th>\n",
       "      <td>17.795000</td>\n",
       "      <td>2.900000</td>\n",
       "      <td>2.000000</td>\n",
       "    </tr>\n",
       "    <tr>\n",
       "      <th>75%</th>\n",
       "      <td>24.127500</td>\n",
       "      <td>3.562500</td>\n",
       "      <td>3.000000</td>\n",
       "    </tr>\n",
       "    <tr>\n",
       "      <th>max</th>\n",
       "      <td>50.810000</td>\n",
       "      <td>10.000000</td>\n",
       "      <td>6.000000</td>\n",
       "    </tr>\n",
       "  </tbody>\n",
       "</table>\n",
       "</div>"
      ],
      "text/plain": [
       "       total_bill         tip        size\n",
       "count  244.000000  244.000000  244.000000\n",
       "mean    19.785943    2.998279    2.569672\n",
       "std      8.902412    1.383638    0.951100\n",
       "min      3.070000    1.000000    1.000000\n",
       "25%     13.347500    2.000000    2.000000\n",
       "50%     17.795000    2.900000    2.000000\n",
       "75%     24.127500    3.562500    3.000000\n",
       "max     50.810000   10.000000    6.000000"
      ]
     },
     "execution_count": 136,
     "metadata": {},
     "output_type": "execute_result"
    }
   ],
   "source": [
    "df.describe()"
   ]
  },
  {
   "cell_type": "markdown",
   "metadata": {},
   "source": [
    "b)"
   ]
  },
  {
   "cell_type": "code",
   "execution_count": 137,
   "metadata": {},
   "outputs": [
    {
     "data": {
      "text/plain": [
       "Text(0.5, 0.98, 'Descriptive statistics for tip, total bill and size')"
      ]
     },
     "execution_count": 137,
     "metadata": {},
     "output_type": "execute_result"
    },
    {
     "data": {
      "image/png": "[encoded data removed]",
      "text/plain": [
       "<Figure size 1080x288 with 3 Axes>"
      ]
     },
     "metadata": {
      "needs_background": "light"
     },
     "output_type": "display_data"
    }
   ],
   "source": [
    "fig, ax = plt.subplots(1, 3, figsize=(15,4))\n",
    "tip = df[\"tip\"].describe()[1:]\n",
    "sns.barplot(y=tip, x=tip.index, ax=ax[0])\n",
    "total_bill = df[\"total_bill\"].describe()[1:]\n",
    "sns.barplot(y=total_bill, x=total_bill.index, ax=ax[1])\n",
    "size = df[\"size\"].describe()[1:]\n",
    "sns.barplot(y=size, x=size.index, ax=ax[2])\n",
    "fig.suptitle(\"Descriptive statistics for tip, total bill and size\")"
   ]
  },
  {
   "cell_type": "markdown",
   "metadata": {},
   "source": [
    "c)"
   ]
  },
  {
   "cell_type": "code",
   "execution_count": 138,
   "metadata": {},
   "outputs": [
    {
     "data": {
      "text/plain": [
       "Text(0.5, 1.0, 'Male and female distribution')"
      ]
     },
     "execution_count": 138,
     "metadata": {},
     "output_type": "execute_result"
    },
    {
     "data": {
      "image/png": "[encoded data removed]",
      "text/plain": [
       "<Figure size 1080x360 with 3 Axes>"
      ]
     },
     "metadata": {
      "needs_background": "light"
     },
     "output_type": "display_data"
    }
   ],
   "source": [
    "fig, ax = plt.subplots(1,3, figsize=(15,5))\n",
    "\n",
    "tip_day = df[\"tip\"].groupby(df[\"day\"]).mean()\n",
    "sns.barplot(x=tip_day.index, y=tip_day, ax=ax[0])\n",
    "ax[0].set_title(\"Mean tip per day\")\n",
    "\n",
    "sns.scatterplot(x=df[\"total_bill\"], y=df[\"tip\"], hue=df[\"sex\"], ax=ax[1])\n",
    "ax[1].set_title(\"Tip and total bill\")\n",
    "\n",
    "sex = df[\"sex\"].value_counts()\n",
    "ax[2].pie(sex, labels=sex.index, autopct='%.0f%%')\n",
    "ax[2].set_title(\"Male and female distribution\")"
   ]
  },
  {
   "cell_type": "markdown",
   "metadata": {},
   "source": [
    "## 1. Train|test split"
   ]
  },
  {
   "cell_type": "code",
   "execution_count": 139,
   "metadata": {},
   "outputs": [],
   "source": [
    "from sklearn.model_selection import train_test_split"
   ]
  },
  {
   "cell_type": "code",
   "execution_count": 140,
   "metadata": {},
   "outputs": [
    {
     "data": {
      "text/plain": [
       "((170, 2), (74, 2), (170,), (74,))"
      ]
     },
     "execution_count": 140,
     "metadata": {},
     "output_type": "execute_result"
    }
   ],
   "source": [
    "X, y = df.drop([\"tip\", \"sex\", \"smoker\", \"day\", \"time\"], axis=1), df[\"tip\"]\n",
    "X_train, X_test, y_train, y_test = train_test_split(X, y, test_size=0.3, random_state=42)\n",
    "X_train.shape, X_test.shape, y_train.shape, y_test.shape"
   ]
  },
  {
   "cell_type": "markdown",
   "metadata": {},
   "source": [
    "## 2. Feature standardization"
   ]
  },
  {
   "cell_type": "code",
   "execution_count": 141,
   "metadata": {},
   "outputs": [],
   "source": [
    "def standardization(train, test):\n",
    "    my, sigma = train.mean(), train.std()\n",
    "    train = (train - my) / sigma\n",
    "    test = (test - my) / sigma\n",
    "    return (train, test)"
   ]
  },
  {
   "cell_type": "code",
   "execution_count": 142,
   "metadata": {},
   "outputs": [
    {
     "name": "stdout",
     "output_type": "stream",
     "text": [
      "Mean value scaled X_train: [6.791952621236252e-17, -1.9853399969767506e-16]\n",
      "Mean value scaled X_test: [-0.19137999314331822, -0.044779343239090774]\n",
      "Standard deviation scaled X_train: [1.0, 0.9999999999999999]\n",
      "Standard deviation scaled X_test: [0.9249567328013774, 1.0663888876956773]\n"
     ]
    }
   ],
   "source": [
    "scaled_data = standardization(X_train, X_test)\n",
    "\n",
    "scaled_X_train = scaled_data[0]\n",
    "scaled_X_test = scaled_data[1]\n",
    "\n",
    "print(f\"Mean value scaled X_train: [{scaled_X_train['total_bill'].mean()}, {scaled_X_train['size'].mean()}]\")\n",
    "print(f\"Mean value scaled X_test: [{scaled_X_test['total_bill'].mean()}, {scaled_X_test['size'].mean()}]\")\n",
    "print(f\"Standard deviation scaled X_train: [{scaled_X_train['total_bill'].std()}, {scaled_X_train['size'].std()}]\")\n",
    "print(f\"Standard deviation scaled X_test: [{scaled_X_test['total_bill'].std()}, {scaled_X_test['size'].std()}]\")"
   ]
  },
  {
   "cell_type": "markdown",
   "metadata": {},
   "source": [
    "## 3. Polynomial features"
   ]
  },
  {
   "cell_type": "code",
   "execution_count": 143,
   "metadata": {},
   "outputs": [],
   "source": [
    "from sklearn.preprocessing import PolynomialFeatures"
   ]
  },
  {
   "cell_type": "code",
   "execution_count": 151,
   "metadata": {},
   "outputs": [
    {
     "name": "stdout",
     "output_type": "stream",
     "text": [
      "370\n",
      "370\n"
     ]
    }
   ],
   "source": [
    "poly_features = PolynomialFeatures(2, include_bias=False)\n",
    "poly_X_train = poly_features.fit_transform(scaled_X_train)\n",
    "poly_X_test = poly_features.transform(scaled_X_test)\n",
    "\n",
    "test = poly_features.fit_transform(scaled_X_test)\n",
    "print((poly_X_test == test).sum())\n",
    "print(poly_X_test.size)\n"
   ]
  },
  {
   "cell_type": "markdown",
   "metadata": {},
   "source": [
    "## 4. Polynomial regression"
   ]
  },
  {
   "cell_type": "code",
   "execution_count": 162,
   "metadata": {},
   "outputs": [],
   "source": [
    "from sklearn.linear_model import LinearRegression\n",
    "from sklearn.metrics import mean_squared_error"
   ]
  },
  {
   "cell_type": "code",
   "execution_count": 168,
   "metadata": {},
   "outputs": [],
   "source": [
    "def polynomial_regression(degree):\n",
    "    poly_features = PolynomialFeatures(degree, include_bias=False)\n",
    "    poly_X_train = poly_features.fit_transform(scaled_X_train)\n",
    "    poly_X_test = poly_features.transform(scaled_X_test)\n",
    "    \n",
    "    model_linear_regression = LinearRegression()\n",
    "    model_linear_regression.fit(poly_X_train, y_train)\n",
    "    y_pred_train = model_linear_regression.predict(poly_X_train)\n",
    "    y_pred_test = model_linear_regression.predict(poly_X_test)\n",
    "\n",
    "    RMSE_train = np.sqrt(mean_squared_error(y_train, y_pred_train))\n",
    "    RMSE_test = np.sqrt(mean_squared_error(y_test, y_pred_test))\n",
    "\n",
    "    return (RMSE_train, RMSE_test)\n"
   ]
  },
  {
   "cell_type": "code",
   "execution_count": 231,
   "metadata": {},
   "outputs": [
    {
     "data": {
      "image/png": "[encoded data removed]",
      "text/plain": [
       "<Figure size 432x288 with 1 Axes>"
      ]
     },
     "metadata": {
      "needs_background": "light"
     },
     "output_type": "display_data"
    }
   ],
   "source": [
    "recorded_RMSE = pd.DataFrame(columns=[\"Training\", \"Test\"], index=[1,2,3,4])\n",
    "\n",
    "for degree in range(1,5):\n",
    "    recorded_RMSE.loc[degree] = polynomial_regression(degree)\n",
    "\n",
    "plt.plot(recorded_RMSE, linestyle=\"-\", marker=\"o\")\n",
    "plt.legend(recorded_RMSE.columns)\n",
    "plt.xlabel(\"Polynomial degree\")\n",
    "plt.ylabel(\"RMSE\")\n",
    "plt.title(\"RMSE for training and test data\")\n",
    "plt.show()"
   ]
  },
  {
   "cell_type": "markdown",
   "metadata": {},
   "source": [
    "## 5. Regularization methods"
   ]
  },
  {
   "cell_type": "code",
   "execution_count": 221,
   "metadata": {},
   "outputs": [],
   "source": [
    "from sklearn.linear_model import RidgeCV, LassoCV, ElasticNetCV\n",
    "from sklearn.metrics import mean_absolute_error, mean_squared_error"
   ]
  },
  {
   "cell_type": "code",
   "execution_count": 277,
   "metadata": {},
   "outputs": [],
   "source": [
    "def evaluation(model, y_pred):\n",
    "    MAE = mean_absolute_error(y_test, y_pred)\n",
    "    MSE = mean_squared_error(y_test, y_pred)\n",
    "    RMSE = np.sqrt(MSE)\n",
    "    weights =  model.coef_\n",
    "    alpha = model.alpha_\n",
    "\n",
    "    np.set_printoptions(precision=5)\n",
    "    print(f\"Alpha: {alpha}\")\n",
    "    print(f\"Weights: {weights}\")\n",
    "    print(f\"MAE: {MAE:.3f}\")\n",
    "    print(f\"MSE: {MSE:.3f}\")\n",
    "    print(f\"RMSE: {RMSE:.3f}\")"
   ]
  },
  {
   "cell_type": "markdown",
   "metadata": {},
   "source": [
    "a)"
   ]
  },
  {
   "cell_type": "code",
   "execution_count": 280,
   "metadata": {},
   "outputs": [
    {
     "name": "stdout",
     "output_type": "stream",
     "text": [
      "Alpha: 5.0\n",
      "Weights: [ 0.9147   0.23894 -0.67584  0.20551 -0.01369 -0.26008  0.31868 -0.0343\n",
      " -0.12484  0.16    -0.18105  0.24878 -0.12693  0.05003]\n",
      "MAE: 0.831\n",
      "MSE: 2.208\n",
      "RMSE: 1.486\n"
     ]
    }
   ],
   "source": [
    "# Polynomial with 4 degrees\n",
    "poly_features = PolynomialFeatures(4, include_bias=False)\n",
    "poly_X_train = poly_features.fit_transform(scaled_X_train)\n",
    "poly_X_test = poly_features.transform(scaled_X_test)\n",
    "\n",
    "# RidgeCV\n",
    "model_ridgeCV = RidgeCV(alphas=[0.01,0.1,0.5,1,5,10])\n",
    "model_ridgeCV.fit(poly_X_train, y_train)\n",
    "y_pred_ridgeCV = model_ridgeCV.predict(poly_X_test)\n",
    "\n",
    "evaluation(model_ridgeCV, y_pred_ridgeCV)"
   ]
  },
  {
   "cell_type": "markdown",
   "metadata": {},
   "source": [
    "b)"
   ]
  },
  {
   "cell_type": "code",
   "execution_count": 281,
   "metadata": {},
   "outputs": [
    {
     "name": "stdout",
     "output_type": "stream",
     "text": [
      "Alpha: 0.20770232166587632\n",
      "Weights: [ 0.2347   0.      -0.      -0.       0.       0.08815  0.09736  0.\n",
      "  0.0322   0.       0.       0.      -0.       0.     ]\n",
      "MAE: 0.823\n",
      "MSE: 1.345\n",
      "RMSE: 1.160\n"
     ]
    }
   ],
   "source": [
    "# LassoCV\n",
    "model_lassoCV = LassoCV(n_alphas=100, max_iter=1e4)\n",
    "model_lassoCV.fit(poly_X_train, y_train)\n",
    "y_pred_lassoCV = model_lassoCV.predict(poly_X_test)\n",
    "\n",
    "evaluation(model_lassoCV, y_pred_lassoCV)"
   ]
  },
  {
   "cell_type": "markdown",
   "metadata": {},
   "source": [
    "c)"
   ]
  },
  {
   "cell_type": "code",
   "execution_count": 283,
   "metadata": {},
   "outputs": [
    {
     "name": "stdout",
     "output_type": "stream",
     "text": [
      "Alpha: 0.10711875299553128\n",
      "Weights: [ 0.51937  0.09959 -0.21442  0.       0.       0.       0.11409  0.\n",
      "  0.01801  0.03755  0.       0.       0.       0.     ]\n",
      "MAE: 0.761\n",
      "MSE: 1.298\n",
      "RMSE: 1.139\n",
      "l1 ratio: 0.9\n"
     ]
    }
   ],
   "source": [
    "# ElasticNetCV\n",
    "model_elasticCV = ElasticNetCV(n_alphas=100, l1_ratio=[.001,.01,.05,.1,.5,.9,.95,1], max_iter=1e4)\n",
    "model_elasticCV.fit(poly_X_train, y_train)\n",
    "y_pred_elasticCV = model_elasticCV.predict(poly_X_test)\n",
    "\n",
    "evaluation(model_elasticCV, y_pred_elasticCV)\n",
    "print(f\"l1 ratio: {model_elasticCV.l1_ratio_}\")"
   ]
  }
 ],
 "metadata": {
  "interpreter": {
   "hash": "ee8c49445b4685dea25efc435764cf13e454c75031ac9a0c9532585f728cddf6"
  },
  "kernelspec": {
   "display_name": "Python 3.10.2 ('maskininlarning')",
   "language": "python",
   "name": "python3"
  },
  "language_info": {
   "codemirror_mode": {
    "name": "ipython",
    "version": 3
   },
   "file_extension": ".py",
   "mimetype": "text/x-python",
   "name": "python",
   "nbconvert_exporter": "python",
   "pygments_lexer": "ipython3",
   "version": "3.9.7"
  },
  "orig_nbformat": 4
 },
 "nbformat": 4,
 "nbformat_minor": 2
}
