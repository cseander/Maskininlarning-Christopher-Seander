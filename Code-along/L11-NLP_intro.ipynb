{
 "cells": [
  {
   "cell_type": "markdown",
   "metadata": {},
   "source": [
    "# NLP Intro"
   ]
  },
  {
   "cell_type": "code",
   "execution_count": 9,
   "metadata": {},
   "outputs": [
    {
     "name": "stdout",
     "output_type": "stream",
     "text": [
      "[['i', 'love', 'this', 'book', 'about', 'love'], ['no', 'this', 'book', 'was', 'okay']]\n",
      "Flattened all words ['i', 'love', 'this', 'book', 'about', 'love', 'no', 'this', 'book', 'was', 'okay']\n",
      "Unique words {'okay', 'this', 'i', 'was', 'book', 'about', 'love', 'no'}\n"
     ]
    }
   ],
   "source": [
    "import numpy as np\n",
    "\n",
    "review1 = \"I LOVE this book about love\"\n",
    "review2 = \"No this book was okay\"\n",
    "\n",
    "all_words = [text.lower().split() for text in [review1, review2]]\n",
    "print(all_words)\n",
    "\n",
    "# flatten this list, can also add lists with + operator\n",
    "all_words = [word for text in all_words for word in text]\n",
    "print(f\"Flattened all words {all_words}\")\n",
    "\n",
    "unique_words = set(all_words)\n",
    "print(f\"Unique words {unique_words}\")"
   ]
  },
  {
   "cell_type": "code",
   "execution_count": 22,
   "metadata": {},
   "outputs": [
    {
     "name": "stdout",
     "output_type": "stream",
     "text": [
      "{'okay': 0, 'this': 1, 'i': 2, 'was': 3, 'book': 4, 'about': 5, 'love': 6, 'no': 7}\n",
      "I LOVE this book about love\n",
      "[0. 1. 1. 0. 1. 1. 2. 0.]\n",
      "[1. 1. 0. 1. 1. 0. 0. 1.]\n"
     ]
    }
   ],
   "source": [
    "# make dictionary of all words\n",
    "vocabulary = {word: index for index, word in enumerate(unique_words)}\n",
    "print(vocabulary)\n",
    "\n",
    "\n",
    "\n",
    "def term_frequency_vectorizer(document, vocabulary):\n",
    "    term_frequency = np.zeros(len(vocabulary))\n",
    "\n",
    "    for word in document.lower().split():\n",
    "        index = vocabulary[word]\n",
    "        term_frequency[index] += 1\n",
    "\n",
    "    return term_frequency\n",
    "\n",
    "review1_term_freq = term_frequency_vectorizer(review1, vocabulary)\n",
    "review2_term_freq = term_frequency_vectorizer(review2, vocabulary)\n",
    "\n",
    "print(review1)\n",
    "print(review1_term_freq)\n",
    "print(review2_term_freq)"
   ]
  },
  {
   "cell_type": "code",
   "execution_count": 26,
   "metadata": {},
   "outputs": [
    {
     "data": {
      "text/html": [
       "<div>\n",
       "<style scoped>\n",
       "    .dataframe tbody tr th:only-of-type {\n",
       "        vertical-align: middle;\n",
       "    }\n",
       "\n",
       "    .dataframe tbody tr th {\n",
       "        vertical-align: top;\n",
       "    }\n",
       "\n",
       "    .dataframe thead th {\n",
       "        text-align: right;\n",
       "    }\n",
       "</style>\n",
       "<table border=\"1\" class=\"dataframe\">\n",
       "  <thead>\n",
       "    <tr style=\"text-align: right;\">\n",
       "      <th></th>\n",
       "      <th>okay</th>\n",
       "      <th>this</th>\n",
       "      <th>i</th>\n",
       "      <th>was</th>\n",
       "      <th>book</th>\n",
       "      <th>about</th>\n",
       "      <th>love</th>\n",
       "      <th>no</th>\n",
       "    </tr>\n",
       "  </thead>\n",
       "  <tbody>\n",
       "    <tr>\n",
       "      <th>0</th>\n",
       "      <td>0</td>\n",
       "      <td>1</td>\n",
       "      <td>1</td>\n",
       "      <td>0</td>\n",
       "      <td>1</td>\n",
       "      <td>1</td>\n",
       "      <td>2</td>\n",
       "      <td>0</td>\n",
       "    </tr>\n",
       "    <tr>\n",
       "      <th>1</th>\n",
       "      <td>1</td>\n",
       "      <td>1</td>\n",
       "      <td>0</td>\n",
       "      <td>1</td>\n",
       "      <td>1</td>\n",
       "      <td>0</td>\n",
       "      <td>0</td>\n",
       "      <td>1</td>\n",
       "    </tr>\n",
       "  </tbody>\n",
       "</table>\n",
       "</div>"
      ],
      "text/plain": [
       "   okay  this  i  was  book  about  love  no\n",
       "0     0     1  1    0     1      1     2   0\n",
       "1     1     1  0    1     1      0     0   1"
      ]
     },
     "execution_count": 26,
     "metadata": {},
     "output_type": "execute_result"
    }
   ],
   "source": [
    "import pandas as pd\n",
    "\n",
    "bag_of_words = pd.DataFrame([review1_term_freq, review2_term_freq], columns=vocabulary.keys(), dtype=\"int16\")\n",
    "\n",
    "bag_of_words"
   ]
  },
  {
   "cell_type": "markdown",
   "metadata": {},
   "source": [
    "## Feature extraction with sklearn"
   ]
  },
  {
   "cell_type": "code",
   "execution_count": 45,
   "metadata": {},
   "outputs": [
    {
     "name": "stderr",
     "output_type": "stream",
     "text": [
      "C:\\Users\\chris\\.virtualenvs\\Maskininlarning-Christopher-Seander-nLYLwDGA\\lib\\site-packages\\sklearn\\utils\\deprecation.py:87: FutureWarning: Function get_feature_names is deprecated; get_feature_names is deprecated in 1.0 and will be removed in 1.2. Please use get_feature_names_out instead.\n",
      "  warnings.warn(msg, category=FutureWarning)\n"
     ]
    },
    {
     "data": {
      "text/plain": [
       "(matrix([[1, 1, 2, 0, 0, 1, 0],\n",
       "         [0, 1, 0, 1, 1, 1, 1]], dtype=int64),\n",
       " ['about', 'book', 'love', 'no', 'okay', 'this', 'was'])"
      ]
     },
     "execution_count": 45,
     "metadata": {},
     "output_type": "execute_result"
    }
   ],
   "source": [
    "from sklearn.feature_extraction.text import CountVectorizer, TfidfTransformer, TfidfVectorizer\n",
    "\n",
    "count_vectorizer = CountVectorizer()\n",
    "bag_of_words_sparse = count_vectorizer.fit_transform([review1, review2])\n",
    "bag_of_words_sparse.todense(), count_vectorizer.get_feature_names()"
   ]
  },
  {
   "cell_type": "code",
   "execution_count": 34,
   "metadata": {},
   "outputs": [
    {
     "name": "stderr",
     "output_type": "stream",
     "text": [
      "C:\\Users\\chris\\.virtualenvs\\Maskininlarning-Christopher-Seander-nLYLwDGA\\lib\\site-packages\\sklearn\\utils\\deprecation.py:87: FutureWarning: Function get_feature_names is deprecated; get_feature_names is deprecated in 1.0 and will be removed in 1.2. Please use get_feature_names_out instead.\n",
      "  warnings.warn(msg, category=FutureWarning)\n"
     ]
    }
   ],
   "source": [
    "bag_of_words = pd.DataFrame(bag_of_words_sparse.todense(), columns=count_vectorizer.get_feature_names())"
   ]
  },
  {
   "cell_type": "markdown",
   "metadata": {},
   "source": [
    "## TF-IDF"
   ]
  },
  {
   "cell_type": "code",
   "execution_count": 41,
   "metadata": {},
   "outputs": [
    {
     "data": {
      "text/plain": [
       "matrix([[0.4078241 , 0.29017021, 0.81564821, 0.        , 0.        ,\n",
       "         0.29017021, 0.        ],\n",
       "        [0.        , 0.35520009, 0.        , 0.49922133, 0.49922133,\n",
       "         0.35520009, 0.49922133]])"
      ]
     },
     "execution_count": 41,
     "metadata": {},
     "output_type": "execute_result"
    }
   ],
   "source": [
    "tfidf_transformer = TfidfTransformer()\n",
    "tfidf = tfidf_transformer.fit_transform(bag_of_words_sparse)\n",
    "tfidf.todense()"
   ]
  },
  {
   "cell_type": "code",
   "execution_count": 47,
   "metadata": {},
   "outputs": [
    {
     "data": {
      "text/plain": [
       "matrix([[0.4078241 , 0.29017021, 0.81564821, 0.        , 0.        ,\n",
       "         0.29017021, 0.        ],\n",
       "        [0.        , 0.35520009, 0.        , 0.49922133, 0.49922133,\n",
       "         0.35520009, 0.49922133]])"
      ]
     },
     "execution_count": 47,
     "metadata": {},
     "output_type": "execute_result"
    }
   ],
   "source": [
    "# creates tfidf vector in one go\n",
    "tfidf_vectorizer = TfidfVectorizer()\n",
    "tfidf_vectorizer.fit_transform([review1, review2]).todense()"
   ]
  },
  {
   "cell_type": "code",
   "execution_count": 48,
   "metadata": {},
   "outputs": [
    {
     "name": "stderr",
     "output_type": "stream",
     "text": [
      "C:\\Users\\chris\\.virtualenvs\\Maskininlarning-Christopher-Seander-nLYLwDGA\\lib\\site-packages\\sklearn\\utils\\deprecation.py:87: FutureWarning: Function get_feature_names is deprecated; get_feature_names is deprecated in 1.0 and will be removed in 1.2. Please use get_feature_names_out instead.\n",
      "  warnings.warn(msg, category=FutureWarning)\n"
     ]
    },
    {
     "data": {
      "text/plain": [
       "['about', 'book', 'love', 'no', 'okay', 'this', 'was']"
      ]
     },
     "execution_count": 48,
     "metadata": {},
     "output_type": "execute_result"
    }
   ],
   "source": [
    "tfidf_vectorizer.get_feature_names()"
   ]
  }
 ],
 "metadata": {
  "interpreter": {
   "hash": "c8fc4cb282076c59d7c6350e508c9c949e0fb5400d6c8e36fd4abd0c37b53704"
  },
  "kernelspec": {
   "display_name": "Python 3.9.7 ('Maskininlarning-Christopher-Seander-nLYLwDGA')",
   "language": "python",
   "name": "python3"
  },
  "language_info": {
   "codemirror_mode": {
    "name": "ipython",
    "version": 3
   },
   "file_extension": ".py",
   "mimetype": "text/x-python",
   "name": "python",
   "nbconvert_exporter": "python",
   "pygments_lexer": "ipython3",
   "version": "3.9.7"
  },
  "orig_nbformat": 4
 },
 "nbformat": 4,
 "nbformat_minor": 2
}
