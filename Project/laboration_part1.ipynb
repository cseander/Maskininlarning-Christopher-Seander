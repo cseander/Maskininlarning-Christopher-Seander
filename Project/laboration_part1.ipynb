{
 "cells": [
  {
   "cell_type": "markdown",
   "metadata": {},
   "source": [
    "# Laboration Machine Learning AI21\n",
    "## 1.1 - Movielens full - EDA "
   ]
  },
  {
   "cell_type": "code",
   "execution_count": 19,
   "metadata": {},
   "outputs": [],
   "source": [
    "import pandas as pd\n",
    "import seaborn as sns\n",
    "import matplotlib.pyplot as plt\n",
    "from scipy.sparse import csr_matrix\n",
    "from sklearn.neighbors import NearestNeighbors\n",
    "from fuzzywuzzy import process"
   ]
  },
  {
   "cell_type": "code",
   "execution_count": 2,
   "metadata": {},
   "outputs": [],
   "source": [
    "df_movies = pd.read_csv(\"movies.csv\")\n",
    "df_ratings = pd.read_csv(\"ratings.csv\")"
   ]
  },
  {
   "cell_type": "code",
   "execution_count": 3,
   "metadata": {},
   "outputs": [
    {
     "data": {
      "text/html": [
       "<div>\n",
       "<style scoped>\n",
       "    .dataframe tbody tr th:only-of-type {\n",
       "        vertical-align: middle;\n",
       "    }\n",
       "\n",
       "    .dataframe tbody tr th {\n",
       "        vertical-align: top;\n",
       "    }\n",
       "\n",
       "    .dataframe thead th {\n",
       "        text-align: right;\n",
       "    }\n",
       "</style>\n",
       "<table border=\"1\" class=\"dataframe\">\n",
       "  <thead>\n",
       "    <tr style=\"text-align: right;\">\n",
       "      <th></th>\n",
       "      <th>movieId</th>\n",
       "      <th>title</th>\n",
       "      <th>genres</th>\n",
       "    </tr>\n",
       "  </thead>\n",
       "  <tbody>\n",
       "    <tr>\n",
       "      <th>0</th>\n",
       "      <td>1</td>\n",
       "      <td>Toy Story (1995)</td>\n",
       "      <td>Adventure|Animation|Children|Comedy|Fantasy</td>\n",
       "    </tr>\n",
       "    <tr>\n",
       "      <th>1</th>\n",
       "      <td>2</td>\n",
       "      <td>Jumanji (1995)</td>\n",
       "      <td>Adventure|Children|Fantasy</td>\n",
       "    </tr>\n",
       "    <tr>\n",
       "      <th>2</th>\n",
       "      <td>3</td>\n",
       "      <td>Grumpier Old Men (1995)</td>\n",
       "      <td>Comedy|Romance</td>\n",
       "    </tr>\n",
       "    <tr>\n",
       "      <th>3</th>\n",
       "      <td>4</td>\n",
       "      <td>Waiting to Exhale (1995)</td>\n",
       "      <td>Comedy|Drama|Romance</td>\n",
       "    </tr>\n",
       "    <tr>\n",
       "      <th>4</th>\n",
       "      <td>5</td>\n",
       "      <td>Father of the Bride Part II (1995)</td>\n",
       "      <td>Comedy</td>\n",
       "    </tr>\n",
       "  </tbody>\n",
       "</table>\n",
       "</div>"
      ],
      "text/plain": [
       "   movieId                               title  \\\n",
       "0        1                    Toy Story (1995)   \n",
       "1        2                      Jumanji (1995)   \n",
       "2        3             Grumpier Old Men (1995)   \n",
       "3        4            Waiting to Exhale (1995)   \n",
       "4        5  Father of the Bride Part II (1995)   \n",
       "\n",
       "                                        genres  \n",
       "0  Adventure|Animation|Children|Comedy|Fantasy  \n",
       "1                   Adventure|Children|Fantasy  \n",
       "2                               Comedy|Romance  \n",
       "3                         Comedy|Drama|Romance  \n",
       "4                                       Comedy  "
      ]
     },
     "execution_count": 3,
     "metadata": {},
     "output_type": "execute_result"
    }
   ],
   "source": [
    "df_movies.head()"
   ]
  },
  {
   "cell_type": "code",
   "execution_count": 4,
   "metadata": {},
   "outputs": [
    {
     "data": {
      "text/html": [
       "<div>\n",
       "<style scoped>\n",
       "    .dataframe tbody tr th:only-of-type {\n",
       "        vertical-align: middle;\n",
       "    }\n",
       "\n",
       "    .dataframe tbody tr th {\n",
       "        vertical-align: top;\n",
       "    }\n",
       "\n",
       "    .dataframe thead th {\n",
       "        text-align: right;\n",
       "    }\n",
       "</style>\n",
       "<table border=\"1\" class=\"dataframe\">\n",
       "  <thead>\n",
       "    <tr style=\"text-align: right;\">\n",
       "      <th></th>\n",
       "      <th>userId</th>\n",
       "      <th>movieId</th>\n",
       "      <th>rating</th>\n",
       "      <th>timestamp</th>\n",
       "    </tr>\n",
       "  </thead>\n",
       "  <tbody>\n",
       "    <tr>\n",
       "      <th>0</th>\n",
       "      <td>1</td>\n",
       "      <td>307</td>\n",
       "      <td>3.5</td>\n",
       "      <td>1256677221</td>\n",
       "    </tr>\n",
       "    <tr>\n",
       "      <th>1</th>\n",
       "      <td>1</td>\n",
       "      <td>481</td>\n",
       "      <td>3.5</td>\n",
       "      <td>1256677456</td>\n",
       "    </tr>\n",
       "    <tr>\n",
       "      <th>2</th>\n",
       "      <td>1</td>\n",
       "      <td>1091</td>\n",
       "      <td>1.5</td>\n",
       "      <td>1256677471</td>\n",
       "    </tr>\n",
       "    <tr>\n",
       "      <th>3</th>\n",
       "      <td>1</td>\n",
       "      <td>1257</td>\n",
       "      <td>4.5</td>\n",
       "      <td>1256677460</td>\n",
       "    </tr>\n",
       "    <tr>\n",
       "      <th>4</th>\n",
       "      <td>1</td>\n",
       "      <td>1449</td>\n",
       "      <td>4.5</td>\n",
       "      <td>1256677264</td>\n",
       "    </tr>\n",
       "  </tbody>\n",
       "</table>\n",
       "</div>"
      ],
      "text/plain": [
       "   userId  movieId  rating   timestamp\n",
       "0       1      307     3.5  1256677221\n",
       "1       1      481     3.5  1256677456\n",
       "2       1     1091     1.5  1256677471\n",
       "3       1     1257     4.5  1256677460\n",
       "4       1     1449     4.5  1256677264"
      ]
     },
     "execution_count": 4,
     "metadata": {},
     "output_type": "execute_result"
    }
   ],
   "source": [
    "df_ratings.head()"
   ]
  },
  {
   "cell_type": "code",
   "execution_count": 5,
   "metadata": {},
   "outputs": [],
   "source": [
    "def get_title(movieId):\n",
    "    return df_movies.query('movieId == @movieId')['title'].item()"
   ]
  },
  {
   "cell_type": "code",
   "execution_count": 6,
   "metadata": {},
   "outputs": [
    {
     "data": {
      "image/png": "[encoded data removed]",
      "text/plain": [
       "<Figure size 432x288 with 1 Axes>"
      ]
     },
     "metadata": {
      "needs_background": "light"
     },
     "output_type": "display_data"
    }
   ],
   "source": [
    "top10_most_rated = df_ratings[\"movieId\"].value_counts()[:10]\n",
    "top10_titles = []\n",
    "for movie_id in top10_most_rated.index:\n",
    "    top10_titles.insert(0, get_title(movie_id))\n",
    "\n",
    "ax = sns.barplot(x=top10_most_rated, y=top10_most_rated)\n",
    "ax.set(ylabel=\"Number of ratings\", xlabel=\"Movie title\", xticklabels=top10_titles, title=\"Most rated movies\")\n",
    "plt.xticks(rotation=90);"
   ]
  },
  {
   "cell_type": "code",
   "execution_count": 7,
   "metadata": {},
   "outputs": [
    {
     "name": "stdout",
     "output_type": "stream",
     "text": [
      "The mean rating for the top 10 most rated movies is: 4.1\n"
     ]
    }
   ],
   "source": [
    "top10_mean_rating = df_ratings[df_ratings[\"movieId\"].isin(top10_most_rated.index)][\"rating\"].mean()\n",
    "print(f\"The mean rating for the top 10 most rated movies is: {top10_mean_rating:.1f}\")"
   ]
  },
  {
   "cell_type": "code",
   "execution_count": 8,
   "metadata": {},
   "outputs": [],
   "source": [
    "# found the extract code at https://stackoverflow.com/questions/57465105/python-pandas-str-extract-year-information-from-unclean-column\n",
    "df_movies[\"year\"] = df_movies[\"title\"].str.extract(r'(18\\d{2}|19\\d{2}|20\\d{2})')[0].dropna()"
   ]
  },
  {
   "cell_type": "code",
   "execution_count": 9,
   "metadata": {},
   "outputs": [
    {
     "data": {
      "image/png": "[encoded data removed]",
      "text/plain": [
       "<Figure size 432x288 with 1 Axes>"
      ]
     },
     "metadata": {
      "needs_background": "light"
     },
     "output_type": "display_data"
    }
   ],
   "source": [
    "top20_year_movies =df_movies[\"year\"].value_counts()[:20]\n",
    "\n",
    "ax = sns.barplot(y=top20_year_movies, x=top20_year_movies.index)\n",
    "ax.set(xlabel=\"Year\", ylabel=\"Number of movies\", title=\"Movies per year\")\n",
    "plt.xticks(rotation=45);"
   ]
  },
  {
   "cell_type": "markdown",
   "metadata": {},
   "source": [
    "## 1.2 Create sparse matrix"
   ]
  },
  {
   "cell_type": "code",
   "execution_count": 78,
   "metadata": {},
   "outputs": [
    {
     "data": {
      "text/plain": [
       "27753444"
      ]
     },
     "execution_count": 78,
     "metadata": {},
     "output_type": "execute_result"
    }
   ],
   "source": [
    "len(df_ratings.value_counts())"
   ]
  },
  {
   "cell_type": "code",
   "execution_count": 79,
   "metadata": {},
   "outputs": [
    {
     "data": {
      "text/plain": [
       "53889"
      ]
     },
     "execution_count": 79,
     "metadata": {},
     "output_type": "execute_result"
    }
   ],
   "source": [
    "len(df_ratings[\"movieId\"].value_counts())"
   ]
  },
  {
   "cell_type": "markdown",
   "metadata": {},
   "source": [
    "There are a total of 27753444 ratings for 53889 movies"
   ]
  },
  {
   "cell_type": "code",
   "execution_count": 12,
   "metadata": {},
   "outputs": [
    {
     "name": "stdout",
     "output_type": "stream",
     "text": [
      "Percentage of original data: 89.73%\n"
     ]
    }
   ],
   "source": [
    "rating_count = df_ratings[\"movieId\"].value_counts()\n",
    "less_than_1000_ratings = rating_count[rating_count < 1000].index\n",
    "movies_more_than_1000_ratings = df_ratings[~df_ratings[\"movieId\"].isin(less_than_1000_ratings)]\n",
    "print(f\"Percentage of original data: {len(movies_more_than_1000_ratings['movieId']) / len(df_ratings['movieId']) * 100:.2f}%\")"
   ]
  },
  {
   "cell_type": "markdown",
   "metadata": {},
   "source": [
    "There are 49958 movies with less than 1000 ratings and those account for a total of 2849870 ratings, which is  about 10% of the total number of ratings. I will exclude those.\n",
    "\n",
    "After removing those there are still 24903574 ratings which are still too many to create a sparse matrix (with my hardware)."
   ]
  },
  {
   "cell_type": "code",
   "execution_count": 13,
   "metadata": {},
   "outputs": [
    {
     "name": "stdout",
     "output_type": "stream",
     "text": [
      "Half of mean: 3167.59\n",
      "Percentage of original data: 76.48%\n"
     ]
    }
   ],
   "source": [
    "mean_number_of_ratings = movies_more_than_1000_ratings[\"movieId\"].value_counts().mean()\n",
    "half_mean = rating_count[rating_count < mean_number_of_ratings / 2].index\n",
    "removed_half_mean = df_ratings[~df_ratings[\"movieId\"].isin(half_mean)]\n",
    "print(f\"Half of mean: {mean_number_of_ratings / 2:.2f}\")\n",
    "print(f\"Percentage of original data: {len(removed_half_mean['movieId']) / len(df_ratings['movieId']) * 100:.2f}%\")"
   ]
  },
  {
   "cell_type": "markdown",
   "metadata": {},
   "source": [
    "In order to filter out more data I removed every movie that had less than 3167 ratings which is half of the mean number of ratings among the movies that had more than 1000 ratings. The remaning data is still 76% of the original data and it was possible to create a sparse matrix."
   ]
  },
  {
   "cell_type": "code",
   "execution_count": 17,
   "metadata": {},
   "outputs": [],
   "source": [
    "movie_users = removed_half_mean.pivot(index=\"movieId\", columns=\"userId\", values=\"rating\").fillna(0)\n",
    "movie_users_matrix = csr_matrix(movie_users.values)"
   ]
  },
  {
   "cell_type": "markdown",
   "metadata": {},
   "source": [
    "## 1.3 Recommendation system"
   ]
  },
  {
   "cell_type": "markdown",
   "metadata": {},
   "source": [
    "Creating a new list of movies that can be recommended since I removed some in 1.2"
   ]
  },
  {
   "cell_type": "code",
   "execution_count": 80,
   "metadata": {},
   "outputs": [],
   "source": [
    "movies_in_recommendations = df_movies[df_movies[\"movieId\"].isin(removed_half_mean[\"movieId\"].unique())].reset_index()"
   ]
  },
  {
   "cell_type": "markdown",
   "metadata": {},
   "source": [
    "Fitting model and recommendation function"
   ]
  },
  {
   "cell_type": "code",
   "execution_count": 201,
   "metadata": {},
   "outputs": [],
   "source": [
    "model_KNN = NearestNeighbors(n_neighbors = 20, metric = \"cosine\", algorithm = \"brute\")\n",
    "model_KNN.fit(movie_users_matrix)\n",
    "\n",
    "def recommendations():\n",
    "    user_input = input(\"Enter movie title: \")\n",
    "    try:\n",
    "        index = process.extractOne(user_input, movies_in_recommendations[\"title\"], score_cutoff=90)[2]\n",
    "        recommendations = model_KNN.kneighbors(movie_users_matrix[index], n_neighbors = 6)[1][0]\n",
    "\n",
    "        print(f\"Top 5 recommendations for: {movies_in_recommendations['title'][recommendations[0]]}\")\n",
    "        for movie_index in recommendations[1:]:\n",
    "            print(movies_in_recommendations[\"title\"][movie_index])\n",
    "    except (TypeError):\n",
    "        print(f\"Sorry! Can't find {user_input} in database.\")\n",
    "    "
   ]
  },
  {
   "cell_type": "code",
   "execution_count": 202,
   "metadata": {},
   "outputs": [
    {
     "name": "stdout",
     "output_type": "stream",
     "text": [
      "Top 5 recommendations for: Jurassic Park (1993)\n",
      "Terminator 2: Judgment Day (1991)\n",
      "Forrest Gump (1994)\n",
      "Speed (1994)\n",
      "Fugitive, The (1993)\n",
      "Batman (1989)\n"
     ]
    }
   ],
   "source": [
    "recommendations()"
   ]
  },
  {
   "cell_type": "markdown",
   "metadata": {},
   "source": [
    "a)\n",
    "This recommendation system finds 5 recommendations by using the K-Nearest Neighbors algorithm, which in this case finds the 5 closest movies based on movie ratings.\n",
    "\n",
    "b) There seems to be two main ways to do recommendation systems Collaborative filtering methods and Content based methods. \n",
    "\n",
    "For collaborative filtering methods the recommendation is based on past interactions by the user and the accuracy gets better when the user have more interactions. The interactions from users are then used to recommend content to users that have interacted with similar content. This introduces a problem with new users and can be solved by recommending generally popular content.\n",
    "\n",
    "Content based methods are based on the features of the content and the user, after collecting interactions from the user the recommendations are based on the features of the content and the recommendations will often be more specific. New users can be recommended stuff based on their features, such as gender and age.\n",
    "\n",
    "source: https://towardsdatascience.com/introduction-to-recommender-systems-6c66cf15ada"
   ]
  }
 ],
 "metadata": {
  "interpreter": {
   "hash": "c8fc4cb282076c59d7c6350e508c9c949e0fb5400d6c8e36fd4abd0c37b53704"
  },
  "kernelspec": {
   "display_name": "Python 3.9.7 ('Maskininlarning-Christopher-Seander-nLYLwDGA')",
   "language": "python",
   "name": "python3"
  },
  "language_info": {
   "codemirror_mode": {
    "name": "ipython",
    "version": 3
   },
   "file_extension": ".py",
   "mimetype": "text/x-python",
   "name": "python",
   "nbconvert_exporter": "python",
   "pygments_lexer": "ipython3",
   "version": "3.9.7"
  },
  "orig_nbformat": 4
 },
 "nbformat": 4,
 "nbformat_minor": 2
}
